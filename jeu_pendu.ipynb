{
 "cells": [
  {
   "cell_type": "code",
   "execution_count": 1,
   "metadata": {},
   "outputs": [
    {
     "name": "stdout",
     "output_type": "stream",
     "text": [
      "Bienvenue dans le jeu du pendu!\n",
      "_ _ _ _ _ _ _ _ _ _ _ _ _\n"
     ]
    },
    {
     "name": "stdout",
     "output_type": "stream",
     "text": [
      "Veuillez entrer une seule lettre valide.\n",
      "Bien joué !\n",
      "_ r _ _ r _ _ _ _ _ _ _ _\n",
      "Bien joué !\n",
      "p r _ _ r _ _ _ _ _ _ _ _\n",
      "Bien joué !\n",
      "p r o _ r _ _ _ _ _ _ o _\n"
     ]
    }
   ],
   "source": [
    "import random\n",
    "\n",
    "def choisir_mot():\n",
    "    mots = [\"python\", \"machinelearning\", \"programmation\", \"visualisation\", \"scrummaster\"]\n",
    "    return random.choice(mots)\n",
    "\n",
    "def afficher_mot(mot, lettres_trouvees):\n",
    "    affichage = \"\"\n",
    "    for lettre in mot:\n",
    "        if lettre in lettres_trouvees:\n",
    "            affichage += lettre + \" \"\n",
    "        else:\n",
    "            affichage += \"_ \"\n",
    "    return affichage.strip()\n",
    "\n",
    "def jeu_pendu():\n",
    "    vies = 6\n",
    "    mot_a_trouver = choisir_mot()\n",
    "    lettres_trouvees = []\n",
    "    \n",
    "    print(\"Bienvenue dans le jeu du pendu!\")\n",
    "    print(afficher_mot(mot_a_trouver, lettres_trouvees))\n",
    "\n",
    "    while vies > 0:\n",
    "        lettre = input(\"Devinez une lettre : \").lower()\n",
    "\n",
    "        if not lettre.isalpha() or len(lettre) != 1:\n",
    "            print(\"Veuillez entrer une seule lettre valide.\")\n",
    "            continue\n",
    "\n",
    "        if lettre in lettres_trouvees:\n",
    "            print(\"Vous avez déjà deviné cette lettre. Essayez encore.\")\n",
    "            continue\n",
    "\n",
    "        if lettre in mot_a_trouver:\n",
    "            lettres_trouvees.append(lettre)\n",
    "            print(\"Bien joué !\")\n",
    "        else:\n",
    "            vies -= 1\n",
    "            print(\"Raté ! Il vous reste {} vies.\".format(vies))\n",
    "\n",
    "        affichage_mot = afficher_mot(mot_a_trouver, lettres_trouvees)\n",
    "        print(affichage_mot)\n",
    "\n",
    "        if \"_\" not in affichage_mot:\n",
    "            print(\"Félicitations ! Vous avez trouvé le mot : {}\".format(mot_a_trouver))\n",
    "            break\n",
    "\n",
    "    if vies == 0:\n",
    "        print(\"Dommage, vous avez épuisé toutes vos vies.\")\n",
    "\n",
    "   \n",
    "\n",
    "if __name__ == \"__main__\":\n",
    "    jeu_pendu()"
   ]
  },
  {
   "cell_type": "code",
   "execution_count": null,
   "metadata": {},
   "outputs": [],
   "source": []
  }
 ],
 "metadata": {
  "kernelspec": {
   "display_name": "Python 3",
   "language": "python",
   "name": "python3"
  },
  "language_info": {
   "codemirror_mode": {
    "name": "ipython",
    "version": 3
   },
   "file_extension": ".py",
   "mimetype": "text/x-python",
   "name": "python",
   "nbconvert_exporter": "python",
   "pygments_lexer": "ipython3",
   "version": "3.11.5"
  }
 },
 "nbformat": 4,
 "nbformat_minor": 2
}
